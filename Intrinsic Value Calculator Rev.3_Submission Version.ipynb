{
 "cells": [
  {
   "attachments": {
    "image.png": {
     "image/png": "[encoded data removed]"
    }
   },
   "cell_type": "markdown",
   "id": "8120a2de",
   "metadata": {},
   "source": [
    "### DCF INTRINSIC VALUE CALCULATOR\n",
    "\n",
    "Discounted Cash Flow is one of the most common way to value a stock. Discounted cash flow (DCF) is a method of valuation used to determine the value of an investment based on its return or future cash flows.\n",
    "\n",
    "![image.png](attachment:image.png)\n",
    "\n",
    "The aim of this project is to create a program that can calculate the intrinsic value of a stock. In this program we are going to create an intrinsic value based on 20 years of cash flow\n",
    "\n",
    "*Disclaimer: All investment strategies and investments involve risk of loss. Nothing in this project and article constitutes professional and/or financial advice. Past performance are not guarantee of the future results.* \n",
    "\n",
    "Reference: \n",
    "- https://medium.datadriveninvestor.com/how-to-calculate-intrinsic-value-of-a-stock-aapl-case-study-935fb062004b\n",
    "- yfinance module: https://pypi.org/project/yfinance/\n",
    "- YahooFinancials module:https://pypi.org/project/yahoofinancials/"
   ]
  },
  {
   "cell_type": "markdown",
   "id": "9c9d9bc2",
   "metadata": {},
   "source": [
    "\n",
    "\n",
    "#### We will use Apple Stock as an example. Data is based on 9th Oct 2021.\n",
    "\n",
    "<br />\n",
    "\n",
    "#### Step 1: find out the free cash flow, total debt and the cash and short term investment of a compnay. These information are freely available on web"
   ]
  },
  {
   "cell_type": "code",
   "execution_count": 67,
   "id": "5fc2c8a1",
   "metadata": {},
   "outputs": [],
   "source": [
    "free_cash_flow = 94768000000\n",
    "total_debt = 121.79e9\n",
    "cash_short_term_investment = 61.7e9"
   ]
  },
  {
   "cell_type": "markdown",
   "id": "6fcf83b8",
   "metadata": {},
   "source": [
    "#### Step 2: get the number of shares outstanding from Yahoo Finance. You need to install the yfinance module in order to use this module. \n",
    "\n",
    "https://pypi.org/project/yfinance/"
   ]
  },
  {
   "cell_type": "code",
   "execution_count": 68,
   "id": "8c44500c",
   "metadata": {},
   "outputs": [],
   "source": [
    "import yfinance as yf\n",
    "stock = yf.Ticker('AAPL')\n",
    "share_outstanding = stock.info.get('sharesOutstanding')"
   ]
  },
  {
   "attachments": {},
   "cell_type": "markdown",
   "id": "5636633f",
   "metadata": {},
   "source": [
    "#### Step 3: Determine the discount rate. \n",
    "\n",
    "Calculation of the discount rate can be automated by using the following code. Then calculate the discount factor from the discount rate"
   ]
  },
  {
   "cell_type": "code",
   "execution_count": 69,
   "id": "ad6f8588",
   "metadata": {},
   "outputs": [
    {
     "data": {
      "text/plain": [
       "0.9302325581395349"
      ]
     },
     "execution_count": 69,
     "metadata": {},
     "output_type": "execute_result"
    }
   ],
   "source": [
    "beta = stock.info['beta']\n",
    "\n",
    "def discount_fac(beta):\n",
    "    \"This function returns the discount factor based on the beta\"\n",
    "    if beta < 0.8:\n",
    "        discount_rate = 0.05\n",
    "    elif 0.8 <= beta < 1.0:\n",
    "        discount_rate = 0.06\n",
    "    elif 1.0 <= beta < 1.1:\n",
    "        discount_rate = 0.065\n",
    "    elif 1.1 <= beta < 1.2:\n",
    "        discount_rate = 0.07\n",
    "    elif 1.2 <= beta < 1.3:\n",
    "        discount_rate = 0.075\n",
    "    elif 1.3 <= beta < 1.5:\n",
    "        discount_rate = 0.08\n",
    "    elif 1.5 <= beta < 1.6:\n",
    "        discount_rate = 0.085\n",
    "    else:\n",
    "        discount_rate = 0.09\n",
    "    \n",
    "    discount_factor = 1/(1+discount_rate)\n",
    "    return(discount_factor)\n",
    "\n",
    "discount_factor = discount_fac(beta)\n",
    "discount_factor"
   ]
  },
  {
   "cell_type": "markdown",
   "id": "3917e151",
   "metadata": {},
   "source": [
    "#### Step 4: Estimate the cash flow growth of year 1 - 5, 6 - 10 and 11 - 20\n",
    "\n",
    "<br />\n",
    "\n",
    "- In this step, which is the most challenging step, is to make reasonable assumptions of growth of future cash flow of the company. This is a crucial part of the DCF analysis as the growth rate defined here can affect the accuracy of the valuation. Analyst must estimate the growth based on the past performance, future prospects, the sector of the company, macro-economic factor etc.\n",
    "\n",
    "<br />\n",
    "\n",
    "- We assume a growth rate of 20 % for the first 5 years, 10% for the following 5 years and 2 % for the final 10 years"
   ]
  },
  {
   "cell_type": "code",
   "execution_count": 70,
   "id": "b097fccc",
   "metadata": {},
   "outputs": [],
   "source": [
    "#Growth rate of Cash flow from year 1 to 5\n",
    "growth_1_mid = 0.20\n",
    "\n",
    "#Growth rate of Cash flow from year 6 to 10\n",
    "growth_2_mid = 0.10\n",
    "\n",
    "#Growth rate of Cash flow from year 11 to 20\n",
    "growth_3_mid = 0.02"
   ]
  },
  {
   "cell_type": "markdown",
   "id": "e72b1f47",
   "metadata": {},
   "source": [
    "It is good to add another 2 cases for a more consevertive case and a more optimistic case. Lets specify the upside and downside of the growth rate as per code below"
   ]
  },
  {
   "cell_type": "code",
   "execution_count": 71,
   "id": "95d02222",
   "metadata": {},
   "outputs": [],
   "source": [
    "#Growth rate of Cash flow from year 1 to 5 (Upside)\n",
    "growth_1_up = 0.30\n",
    "\n",
    "#Growth rate of Cash flow from year 6 to 10 (Upside)\n",
    "growth_2_up = 0.15\n",
    "\n",
    "#Growth rate of Cash flow from year 11 to 20 (Upside)\n",
    "growth_3_up = 0.05\n",
    "\n",
    "#Growth rate of Cash flow from year 1 to 5 (Downside)\n",
    "growth_1_down = 0.10\n",
    "\n",
    "#Growth rate of Cash flow from year 6 to 10 (Downside)\n",
    "growth_2_down = 0.05\n",
    "\n",
    "#Growth rate of Cash flow from year 11 to 20 (Downside)\n",
    "growth_3_down = 0.01"
   ]
  },
  {
   "cell_type": "markdown",
   "id": "ab95e85f",
   "metadata": {},
   "source": [
    "#### Step 5: Create a function that return the total discounted cash flow. "
   ]
  },
  {
   "cell_type": "code",
   "execution_count": 72,
   "id": "0251a555",
   "metadata": {},
   "outputs": [],
   "source": [
    "def total_dcf(free_cash_flow, \n",
    "            total_debt, \n",
    "            cash_short_term_investment, \n",
    "            discount_factor, \n",
    "            growth_1, \n",
    "            growth_2, \n",
    "            growth_3):\n",
    "    \"This function return the 20 years of total discounted cash flow\"\n",
    "    \n",
    "    projected_cash_flow_list = []\n",
    "    discounted_cash_flow_list = []\n",
    "    growth_rate_1 = growth_1\n",
    "\n",
    "    # Discounted cash flow of year 1 to 5\n",
    "    for year in [1,2,3,4,5]:\n",
    "        projected_cash_flow = free_cash_flow*((1+growth_rate_1)**year)\n",
    "        discounted_cash_flow = projected_cash_flow*(discount_factor**year)\n",
    "    \n",
    "        projected_cash_flow_list.append(projected_cash_flow)\n",
    "        discounted_cash_flow_list.append(discounted_cash_flow)\n",
    "\n",
    "    #discounted cash flow of year 6 to 10\n",
    "    projected_cash_flow_year5 = projected_cash_flow\n",
    "    growth_rate_2 = growth_2\n",
    "\n",
    "    for year in [6,7,8,9,10]:\n",
    "        projected_cash_flow = projected_cash_flow_year5*((1+growth_rate_2)**(year-5))\n",
    "        discounted_cash_flow = projected_cash_flow*(discount_factor**(year))\n",
    "        projected_cash_flow_list.append(projected_cash_flow)\n",
    "        discounted_cash_flow_list.append(discounted_cash_flow)\n",
    "\n",
    "    #discounted cash flow of year 11 to 20\n",
    "    projected_cash_flow_year10 = projected_cash_flow\n",
    "    growth_rate_3 = growth_3\n",
    "\n",
    "    for year in [11,12,13,14,15,16,17,18,19,20]:\n",
    "    \n",
    "        projected_cash_flow = projected_cash_flow_year10*((1+growth_rate_3)**(year-10))\n",
    "        discounted_cash_flow = projected_cash_flow*(discount_factor**(year))\n",
    "        projected_cash_flow_list.append(projected_cash_flow)\n",
    "        discounted_cash_flow_list.append(discounted_cash_flow)\n",
    "    \n",
    "    return sum(discounted_cash_flow_list)"
   ]
  },
  {
   "cell_type": "markdown",
   "id": "63eb4058",
   "metadata": {},
   "source": [
    "#### Step 6: Calculate the Intrinsic Value\n",
    "- First, using the function created above to get the total discounted cash flow. \n",
    "- Then, take the total discounted cash flow, minus off the total debt, add total cash and short term investment, and divide it by the number of shares outstanding"
   ]
  },
  {
   "cell_type": "code",
   "execution_count": 73,
   "id": "5c1d11b7",
   "metadata": {},
   "outputs": [
    {
     "name": "stdout",
     "output_type": "stream",
     "text": [
      "$174.44\n"
     ]
    }
   ],
   "source": [
    "growth_1 = growth_1_mid #growth for year 1 - 5\n",
    "growth_2 = growth_2_mid #growth for year 6 - 10\n",
    "growth_3 = growth_3_mid #growth for year 11 - 20\n",
    "\n",
    "total_discounted_cash_flow = total_dcf(free_cash_flow, \n",
    "                                        total_debt, \n",
    "                                        cash_short_term_investment, \n",
    "                                        discount_factor, \n",
    "                                        growth_1, \n",
    "                                        growth_2, \n",
    "                                        growth_3)\n",
    "\n",
    "intrinsic_value_mid = (total_discounted_cash_flow + cash_short_term_investment - total_debt) / share_outstanding\n",
    "print(\"${:,.2f}\".format(intrinsic_value_mid))"
   ]
  },
  {
   "cell_type": "markdown",
   "id": "6e82f8f4",
   "metadata": {},
   "source": [
    "Repeat the above code for the upside case and downside case"
   ]
  },
  {
   "cell_type": "code",
   "execution_count": 74,
   "id": "eb9faf52",
   "metadata": {},
   "outputs": [
    {
     "name": "stdout",
     "output_type": "stream",
     "text": [
      "$323.02\n",
      "$98.30\n"
     ]
    }
   ],
   "source": [
    "#Upside Case\n",
    "\n",
    "growth_1 = growth_1_up #growth for year 1 - 5\n",
    "growth_2 = growth_2_up #growth for year 6 - 10\n",
    "growth_3 = growth_3_up #growth for year 11 - 20\n",
    "\n",
    "total_discounted_cash_flow = total_dcf(free_cash_flow, \n",
    "                                        total_debt, \n",
    "                                        cash_short_term_investment, \n",
    "                                        discount_factor, \n",
    "                                        growth_1, \n",
    "                                        growth_2, \n",
    "                                        growth_3)\n",
    "\n",
    "intrinsic_value_up = (total_discounted_cash_flow + cash_short_term_investment - total_debt) / share_outstanding\n",
    "print(\"${:,.2f}\".format(intrinsic_value_up))\n",
    "\n",
    "#Downside Case\n",
    "\n",
    "growth_1 = growth_1_down #growth for year 1 - 5\n",
    "growth_2 = growth_2_down #growth for year 6 - 10\n",
    "growth_3 = growth_3_down #growth for year 11 - 20\n",
    "\n",
    "total_discounted_cash_flow = total_dcf(free_cash_flow, \n",
    "                                        total_debt, \n",
    "                                        cash_short_term_investment, \n",
    "                                        discount_factor, \n",
    "                                        growth_1, \n",
    "                                        growth_2, \n",
    "                                        growth_3)\n",
    "\n",
    "intrinsic_value_down = (total_discounted_cash_flow + cash_short_term_investment - total_debt) / share_outstanding\n",
    "print(\"${:,.2f}\".format(intrinsic_value_down))"
   ]
  },
  {
   "cell_type": "markdown",
   "id": "b0f14f21",
   "metadata": {},
   "source": [
    "#### Step 7: Finally, compare the calculated intrinsic value against the current stock price.\n",
    "- The following code extract the stock price from yahoo finance, compared against the calculated intrinsic value and print out a summary indicating whether the stock price is overvalued or undervalued. "
   ]
  },
  {
   "cell_type": "code",
   "execution_count": 75,
   "id": "b447afcd",
   "metadata": {},
   "outputs": [
    {
     "name": "stdout",
     "output_type": "stream",
     "text": [
      "       Case Current Share Price Intrinsic Value Percentage Difference  \\\n",
      "0    Upside              $141.9          $323.0               -127.6%   \n",
      "1    Middle              $141.9          $174.4                -22.9%   \n",
      "2  Downside              $141.9           $98.3                 30.7%   \n",
      "\n",
      "     Valuation  \n",
      "0  Undervalued  \n",
      "1  Undervalued  \n",
      "2   Overvalued  \n"
     ]
    }
   ],
   "source": [
    "# Get current share price\n",
    "\n",
    "from yahoofinancials import YahooFinancials\n",
    "ticker = 'AAPL'\n",
    "yahoo_financials = YahooFinancials(ticker)\n",
    "stock_price = yahoo_financials.get_current_price()\n",
    "\n",
    "# Label the intrinsic values as \"overvalued\" or \"undervalued\"\n",
    "if intrinsic_value_up <= stock_price:\n",
    "    valuation_up = 'Overvalued'\n",
    "else:\n",
    "    valuation_up = 'Undervalued'\n",
    "\n",
    "if intrinsic_value_mid <= stock_price:\n",
    "    valuation_mid = 'Overvalued'\n",
    "else:\n",
    "    valuation_mid = 'Undervalued'\n",
    "    \n",
    "if intrinsic_value_down <= stock_price:\n",
    "    valuation_down = 'Overvalued'\n",
    "else:\n",
    "    valuation_down = 'Undervalued'\n",
    "\n",
    "# Calculate the percentage difference between the current stock price and the intrinsic value of the stock\n",
    "difference_up = ((stock_price - intrinsic_value_up) / stock_price)*100 #output in percentage, so need to x 100\n",
    "difference_mid = ((stock_price - intrinsic_value_mid) / stock_price)*100 \n",
    "difference_down = ((stock_price - intrinsic_value_down) / stock_price)*100\n",
    "\n",
    "# Compile all information into a dictionary, and covert it to a pandas dataframe as a final output.\n",
    "import pandas as pd\n",
    "\n",
    "output_dict = {'Case': ['Upside', 'Middle', 'Downside'],\n",
    "             'Current Share Price': [stock_price, stock_price, stock_price],\n",
    "             'Intrinsic Value': [intrinsic_value_up, intrinsic_value_mid, intrinsic_value_down],\n",
    "             'Percentage Difference': [difference_up, difference_mid, difference_down],\n",
    "             'Valuation': [valuation_up, valuation_mid, valuation_down]}\n",
    "\n",
    "output = pd.DataFrame(output_dict) #DataFrame constructor\n",
    "\n",
    "def format(x):\n",
    "    return \"${:.1f}\".format(x)\n",
    "\n",
    "output['Current Share Price'] = output['Current Share Price'].apply(format)\n",
    "output['Intrinsic Value'] = output['Intrinsic Value'].apply(format)\n",
    "\n",
    "def format(x):\n",
    "    return \"{:.1f}%\".format(x)\n",
    "\n",
    "output['Percentage Difference'] = output['Percentage Difference'].apply(format)\n",
    "\n",
    "print(output)"
   ]
  },
  {
   "cell_type": "markdown",
   "id": "9b6a0184",
   "metadata": {},
   "source": [
    "**From the above calculation, we can conclude that the current share price is fairly valued as the middle case is 23% undervalued.**"
   ]
  },
  {
   "cell_type": "code",
   "execution_count": null,
   "id": "abe7b118",
   "metadata": {},
   "outputs": [],
   "source": []
  }
 ],
 "metadata": {
  "kernelspec": {
   "display_name": "Python 3",
   "language": "python",
   "name": "python3"
  },
  "language_info": {
   "codemirror_mode": {
    "name": "ipython",
    "version": 3
   },
   "file_extension": ".py",
   "mimetype": "text/x-python",
   "name": "python",
   "nbconvert_exporter": "python",
   "pygments_lexer": "ipython3",
   "version": "3.7.7"
  }
 },
 "nbformat": 4,
 "nbformat_minor": 5
}
